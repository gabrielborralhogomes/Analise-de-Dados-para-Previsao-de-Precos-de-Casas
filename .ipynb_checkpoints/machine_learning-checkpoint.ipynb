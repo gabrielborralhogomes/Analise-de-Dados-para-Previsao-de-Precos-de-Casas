{
 "cells": [
  {
   "cell_type": "code",
   "execution_count": 95,
   "id": "8a4f2675-14a2-41de-9be4-2e7b0c24f3c7",
   "metadata": {},
   "outputs": [],
   "source": [
    "import pandas as pd\n",
    "import joblib\n",
    "from xgboost import XGBRegressor\n",
    "import matplotlib.pyplot as plt\n",
    "from sklearn.feature_selection import RFE\n",
    "from sklearn.model_selection import train_test_split, GridSearchCV\n",
    "from sklearn.metrics import mean_squared_error"
   ]
  },
  {
   "cell_type": "code",
   "execution_count": 97,
   "id": "696e25c1-aa02-4d93-9d78-4d053d3c0a13",
   "metadata": {},
   "outputs": [],
   "source": [
    "# Carrega os conjuntos de dados\n",
    "train_df = pd.read_csv('dados/train_dados_processados.csv')\n",
    "test_df = pd.read_csv('dados/test_dados_processados.csv')"
   ]
  },
  {
   "cell_type": "code",
   "execution_count": 99,
   "id": "653dc4ac-9f63-4c2b-9481-9421d5f9cb41",
   "metadata": {},
   "outputs": [],
   "source": [
    "# Separa as features (X) e o target (y) no conjunto de treino\n",
    "X_train = train_df.drop(columns=['SalePrice'])  # Substitua 'SalePrice' pela sua coluna de target\n",
    "y_train = train_df['SalePrice']"
   ]
  },
  {
   "cell_type": "code",
   "execution_count": 101,
   "id": "56e2490d-3758-46ff-ab33-44ece9b95ab8",
   "metadata": {},
   "outputs": [
    {
     "name": "stdout",
     "output_type": "stream",
     "text": [
      "Features selecionadas: ['TotalArea', 'OverallQual', 'CentralAir', 'KitchenAbvGr', 'KitchenQual', 'TotalBathrooms', 'OverallFinishQuality', 'BsmtQual', 'GarageCars', '2ndFlrSF', 'ExterQual', 'TotRmsAbvGrd', 'FireplaceQu', 'GarageFinish']\n"
     ]
    }
   ],
   "source": [
    "# Criar e treinar o modelo XGBoost\n",
    "model = XGBRegressor(objective='reg:squarederror', random_state=42)\n",
    "\n",
    "# Ajustar o modelo para obter a importância das features\n",
    "model.fit(X_train, y_train)\n",
    "\n",
    "# Obter a importância das features\n",
    "importance = model.feature_importances_\n",
    "feature_importances = pd.DataFrame({'Feature': X_train.columns, 'Importance': importance})\n",
    "feature_importances = feature_importances.sort_values(by='Importance', ascending=False)\n",
    "\n",
    "# Selecionar as features com base em um limite de importância\n",
    "threshold = 0.01  # Defina um limite para a importância\n",
    "selected_features = feature_importances[feature_importances['Importance'] >= threshold]['Feature']\n",
    "\n",
    "print(\"Features selecionadas:\", selected_features.tolist())"
   ]
  },
  {
   "cell_type": "code",
   "execution_count": 103,
   "id": "3fb0c23c-aa9b-4a8c-8bd2-991fef5331a4",
   "metadata": {},
   "outputs": [
    {
     "name": "stdout",
     "output_type": "stream",
     "text": [
      "Fitting 5 folds for each of 19440 candidates, totalling 97200 fits\n"
     ]
    },
    {
     "name": "stderr",
     "output_type": "stream",
     "text": [
      "\n",
      "KeyboardInterrupt\n",
      "\n"
     ]
    }
   ],
   "source": [
    "# Criar novos conjuntos de dados com as features selecionadas\n",
    "X_train_selected = X_train[selected_features]\n",
    "\n",
    "# Definir os hiperparâmetros a serem testados\n",
    "param_grid = {\n",
    "    'n_estimators': [100, 200, 300],  # Aumentar o número de estimadores\n",
    "    'max_depth': [3, 5, 7, 9, 11],    # Expandir a profundidade máxima\n",
    "    'learning_rate': [0.01, 0.05, 0.1, 0.2],  # Adicionar um valor intermediário\n",
    "    'subsample': [0.6, 0.8, 1.0],      # Taxa de amostragem\n",
    "    'colsample_bytree': [0.6, 0.8, 1.0],  # Taxa de amostragem de colunas\n",
    "    'gamma': [0, 0.1, 0.2, 0.3],       # Penalização para a complexidade\n",
    "    'reg_alpha': [0, 0.1, 1],          # Regularização L1\n",
    "    'reg_lambda': [0, 0.1, 1]          # Regularização L2\n",
    "}\n",
    "\n",
    "# Realizar Grid Search\n",
    "grid_search = GridSearchCV(estimator=model, param_grid=param_grid, scoring='neg_mean_squared_error', cv=5, verbose=1, n_jobs=-1)\n",
    "grid_search.fit(X_train_selected, y_train)\n",
    "\n",
    "# Melhor modelo encontrado\n",
    "best_model = grid_search.best_estimator_"
   ]
  },
  {
   "cell_type": "code",
   "execution_count": 87,
   "id": "6f1de5ea-87df-40a3-af65-a1fd16aff492",
   "metadata": {},
   "outputs": [],
   "source": [
    "# Fazendo previsões no conjunto de teste\n",
    "X_test = test_df.drop(columns=['Id'])  # Exclua a coluna 'Id'\n",
    "\n",
    "# Certifique-se de que as colunas no conjunto de teste sejam as mesmas do conjunto de treinamento\n",
    "X_test = X_test[selected_features]  # Use apenas as features selecionadas\n",
    "\n",
    "# Prever os preços\n",
    "predictions = best_model.predict(X_test)"
   ]
  },
  {
   "cell_type": "code",
   "execution_count": 89,
   "id": "281987d5-a90e-40b6-8fcc-53be725f0cf0",
   "metadata": {},
   "outputs": [],
   "source": [
    "# Cria um DataFrame para salvar as previsões\n",
    "submission_df = pd.DataFrame({\n",
    "    'Id': test_df['Id'],\n",
    "    'SalePrice': predictions\n",
    "})\n",
    "\n",
    "# Salva as previsões em um arquivo CSV\n",
    "submission_df.to_csv('dados/sample_submission.csv', index=False)"
   ]
  },
  {
   "cell_type": "code",
   "execution_count": 93,
   "id": "116993d8-a7a9-4868-b734-f3013b6e3cdc",
   "metadata": {
    "scrolled": true
   },
   "outputs": [
    {
     "name": "stdout",
     "output_type": "stream",
     "text": [
      "Importância das Features:\n",
      "                 Feature  Importance\n",
      "81             TotalArea    0.173819\n",
      "16           OverallQual    0.159068\n",
      "51          KitchenAbvGr    0.061132\n",
      "29              BsmtQual    0.051816\n",
      "52           KitchenQual    0.047176\n",
      "82        TotalBathrooms    0.039978\n",
      "59          GarageFinish    0.039753\n",
      "7            LandContour    0.029789\n",
      "90       BasementQuality    0.027596\n",
      "57            GarageType    0.027080\n",
      "84  OverallFinishQuality    0.023513\n",
      "43              2ndFlrSF    0.022547\n",
      "26             ExterQual    0.020847\n",
      "60            GarageCars    0.019542\n",
      "40            CentralAir    0.017506\n",
      "50          BedroomAbvGr    0.016647\n",
      "48              FullBath    0.015978\n",
      "56           FireplaceQu    0.014585\n",
      "33            BsmtFinSF1    0.013746\n",
      "18             YearBuilt    0.013706\n",
      "19          YearRemodAdd    0.009399\n",
      "79              HouseAge    0.009010\n",
      "1               MSZoning    0.007616\n",
      "55            Fireplaces    0.007255\n",
      "11          Neighborhood    0.007234\n",
      "14              BldgType    0.007131\n",
      "45             GrLivArea    0.005630\n",
      "3                LotArea    0.005588\n",
      "89       ExteriorQuality    0.005308\n",
      "58           GarageYrBlt    0.004885\n",
      "80            RemodelAge    0.004670\n",
      "78         SaleCondition    0.004664\n",
      "66           OpenPorchSF    0.004518\n",
      "31          BsmtExposure    0.004116\n",
      "53          TotRmsAbvGrd    0.003634\n",
      "42              1stFlrSF    0.003552\n",
      "0             MSSubClass    0.003520\n",
      "17           OverallCond    0.003379\n",
      "70              PoolArea    0.002755\n",
      "85      TotalOutdoorArea    0.002696\n",
      "86        LotSizePerRoom    0.002659\n",
      "2            LotFrontage    0.002577\n",
      "37           TotalBsmtSF    0.002536\n",
      "36             BsmtUnfSF    0.002379\n",
      "61            GarageArea    0.002327\n",
      "54            Functional    0.002323\n",
      "22           Exterior1st    0.002261\n",
      "13            Condition2    0.002080\n",
      "75                MoSold    0.001980\n",
      "6               LotShape    0.001910\n",
      "49              HalfBath    0.001901\n",
      "69           ScreenPorch    0.001858\n",
      "88      GarageToLotRatio    0.001729\n",
      "25            MasVnrArea    0.001511\n",
      "12            Condition1    0.001457\n",
      "10             LandSlope    0.001385\n",
      "67         EnclosedPorch    0.001308\n",
      "44          LowQualFinSF    0.001298\n",
      "72                 Fence    0.001244\n",
      "68             3SsnPorch    0.001180\n",
      "65            WoodDeckSF    0.001152\n",
      "32          BsmtFinType1    0.001108\n",
      "39             HeatingQC    0.001096\n",
      "76                YrSold    0.001092\n",
      "83  BedroomBathroomRatio    0.001086\n",
      "77              SaleType    0.001057\n",
      "15            HouseStyle    0.001015\n",
      "24            MasVnrType    0.000987\n",
      "27             ExterCond    0.000928\n",
      "62            GarageQual    0.000906\n",
      "74               MiscVal    0.000875\n",
      "46          BsmtFullBath    0.000859\n",
      "41            Electrical    0.000843\n",
      "9              LotConfig    0.000832\n",
      "23           Exterior2nd    0.000790\n",
      "20             RoofStyle    0.000732\n",
      "28            Foundation    0.000720\n",
      "35            BsmtFinSF2    0.000696\n",
      "21              RoofMatl    0.000684\n",
      "64            PavedDrive    0.000657\n",
      "30              BsmtCond    0.000576\n",
      "87         GarageQuality    0.000460\n",
      "5                  Alley    0.000408\n",
      "38               Heating    0.000150\n",
      "63            GarageCond    0.000000\n",
      "4                 Street    0.000000\n",
      "47          BsmtHalfBath    0.000000\n",
      "73           MiscFeature    0.000000\n",
      "71                PoolQC    0.000000\n",
      "34          BsmtFinType2    0.000000\n",
      "8              Utilities    0.000000\n"
     ]
    }
   ],
   "source": [
    "pd.set_option('display.max_rows', None)\n",
    "print(\"Importância das Features:\")\n",
    "print(importance_df)"
   ]
  },
  {
   "cell_type": "code",
   "execution_count": null,
   "id": "5c0b0a85-ad75-4ab5-9f4c-a79a3414e001",
   "metadata": {},
   "outputs": [],
   "source": []
  }
 ],
 "metadata": {
  "kernelspec": {
   "display_name": "Python 3 (ipykernel)",
   "language": "python",
   "name": "python3"
  },
  "language_info": {
   "codemirror_mode": {
    "name": "ipython",
    "version": 3
   },
   "file_extension": ".py",
   "mimetype": "text/x-python",
   "name": "python",
   "nbconvert_exporter": "python",
   "pygments_lexer": "ipython3",
   "version": "3.11.9"
  }
 },
 "nbformat": 4,
 "nbformat_minor": 5
}
